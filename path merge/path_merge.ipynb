{
 "cells": [
  {
   "cell_type": "code",
   "execution_count": 1,
   "id": "4950ae38-f92b-4b97-a69e-370ef593fcae",
   "metadata": {},
   "outputs": [],
   "source": [
    "import numpy as np\n",
    "import math\n",
    "from scipy import interpolate\n",
    "from scipy.stats import linregress\n",
    "import matplotlib.pyplot as plt\n",
    "import matplotlib\n",
    "import bspline\n",
    "import bspline.splinelab"
   ]
  },
  {
   "cell_type": "code",
   "execution_count": 2,
   "id": "6650ea80-1b1b-4be8-9575-238ce8ddaac0",
   "metadata": {},
   "outputs": [],
   "source": [
    "splev_res = 1000\n",
    "\n",
    "def gdk(z, n, k):\n",
    "    zt = z[1:-1]\n",
    "    t = []\n",
    "    for i in range(n):\n",
    "        t.append(zt[round((len(zt)-1)*(i+1)/(n+1))])\n",
    "        \n",
    "    t = np.concatenate(([z.min()]*(k+1), t, [z.max()]*(k+1)))\n",
    "    return t\n",
    "\n",
    "def softmax(w):\n",
    "    w=np.exp(w)\n",
    "    w/=w.sum()\n",
    "    return w\n",
    "\n",
    "def getSpeedVector(x, double=False):\n",
    "    m = len(x)\n",
    "    if len(x.shape) < 2:\n",
    "        x = np.expand_dims(x,1)\n",
    "    d = np.sqrt(((x[1:]-x[:-1])**2).sum(axis=1))\n",
    "    z = []\n",
    "    zsum = 0\n",
    "    for i in range(len(x)):\n",
    "        z.append(zsum)\n",
    "        if i < m-1:\n",
    "            if double:\n",
    "                zsum += d[i]/2\n",
    "                z.append(zsum)\n",
    "                zsum += d[i]/2\n",
    "            else:\n",
    "                zsum += d[i]\n",
    "    return np.array(z)\n",
    "\n",
    "def generateUniformKnotVector(n,k):\n",
    "    t = np.linspace(0,1,n+2)\n",
    "    t = np.concatenate(([0]*k, t, [1]*k)) #n+2k+2\n",
    "    return t\n",
    "\n",
    "def generateDistKnotVector(x, n, k):\n",
    "    z = getSpeedVector(x)\n",
    "    z /= z[-1]\n",
    "    z = z[1:-1]\n",
    "    t = []\n",
    "    for i in range(n):\n",
    "        t.append(z[round((len(z)-1)*(i+1)/(n+1))])\n",
    "        \n",
    "    t = np.concatenate(([0]*(k+1), t, [1]*(k+1)))\n",
    "    return t\n",
    "\n",
    "def generateKnot(knotStrategy,x,n,k):\n",
    "    if knotStrategy == 0:\n",
    "        t = generateDistKnotVector(x,n,k)\n",
    "    elif knotStrategy == 1:\n",
    "        t = generateUniformKnotVector(n,k)\n",
    "    return t\n",
    "    \n",
    "def vieta_formula(roots, n):\n",
    "    # Initialize an array for polynomial coefficients\n",
    "    coeff = [0] * (n + 1)\n",
    "    # Set the highest order coefficient as 1\n",
    "    coeff[0] = 1\n",
    " \n",
    "    for i in range(n):\n",
    "        for j in range(i + 1, 0, -1):\n",
    "            coeff[j] += roots[i] * coeff[j - 1]\n",
    "            \n",
    "    return coeff[::-1]\n",
    "    \n",
    "def constructSmoothingMatrix(t,n,k):\n",
    "    AT = np.zeros((n+k+1,n))\n",
    "    for j in range(n):\n",
    "        for i in range(k+n+1):\n",
    "            if i<j+1 or i>j+k+1:\n",
    "                AT[i][j] = 0\n",
    "            else:\n",
    "                roots = np.array(t[i:i+k+2])\n",
    "                roots = -roots\n",
    "                # Call the vieta_formula function\n",
    "                coeffs = vieta_formula(roots, len(roots))\n",
    "                pi_prime = 0\n",
    "                for ri in range(1,len(roots)+1):\n",
    "                    pi_prime += coeffs[ri]*(t[j+k+1]**(ri-1))*ri\n",
    "                \n",
    "                #print(i,j, i+1, i-k, len(t), t[j], pi_prime)\n",
    "                #print(math.factorial(k),(t[i+k+1]-t[i]),pi_prime, t[j+k+1], roots, coeffs)\n",
    "                AT[i][j] = math.factorial(k)*(t[i+k+1]-t[i])/pi_prime\n",
    "    return AT.T\n",
    "\n",
    "def constructSecondDerMatrix(x):\n",
    "    m = len(x)\n",
    "    h = x[1:]-x[:-1]\n",
    "    Q = np.zeros((m,m-2))\n",
    "    R = np.zeros((m-2,m-2))\n",
    "    for i in range(m-2):\n",
    "        Q[i][i] = 1/h[i]\n",
    "        Q[i+1][i] = -(1/h[i]+1/h[i+1])\n",
    "        Q[i+2][i] = 1/h[i+1]\n",
    "        R[i][i] = (h[i]+h[i+1])/3\n",
    "        if i < m-3:\n",
    "            R[i+1][i] = R[i][i+1] = h[i+1]/6\n",
    "            \n",
    "    return Q @ np.linalg.inv(R) @ Q.T"
   ]
  },
  {
   "cell_type": "code",
   "execution_count": 3,
   "id": "2348fa9a-cfd8-4f79-bb0e-4acd1d4a73b8",
   "metadata": {},
   "outputs": [],
   "source": [
    "def get_proj_idx(path_1, path_2, clean=False):\n",
    "    idx = np.array([np.linalg.norm(path_2-p, axis=1).argmin() for p in path_1])\n",
    "    if clean:\n",
    "        idx = np.unique(idx)\n",
    "        idx.sort()\n",
    "        \n",
    "    return idx\n",
    "\n",
    "def get_path_by_idx(path, idx):\n",
    "    return [path[i] for i in idx]\n",
    "\n",
    "def getProj(p1,p2):\n",
    "    idx1 = get_proj_idx(p2,p1, clean=True)\n",
    "    proj1 = np.array(get_path_by_idx(p1,idx1))\n",
    "    \n",
    "    idx2 = get_proj_idx(proj1,p2)\n",
    "    proj2 = np.array(get_path_by_idx(p2,idx2))\n",
    "\n",
    "    return proj1, proj2, idx1, idx2"
   ]
  },
  {
   "cell_type": "code",
   "execution_count": 4,
   "id": "09550864-76df-4ca5-abe6-790d124c7df4",
   "metadata": {},
   "outputs": [],
   "source": [
    "def FitSpline(path,k,lm,clamp=True):\n",
    "    cn = len(path)\n",
    "    z = getSpeedVector(path)\n",
    "    t = gdk(z,cn-k-1,k)\n",
    "    bs = bspline.Bspline(t, k)\n",
    "    B = np.array([bs._Bspline__basis(zi,k) for zi in z])\n",
    "    B[-1][-1] = 1\n",
    "    K=constructSecondDerMatrix(z)\n",
    "    m = len(path)\n",
    "    \n",
    "    eqn = 2\n",
    "    P = np.zeros((eqn, cn))\n",
    "    q = np.zeros((eqn,2))\n",
    "\n",
    "    if clamp:\n",
    "        P[0][0] = P[-1][-1] = 1\n",
    "        q[0] = path[0]\n",
    "        q[1] = path[-1]\n",
    "    \n",
    "    LHS = np.concatenate((np.concatenate((((1-lm)*(B.T @ B))+(lm*((B).T@K@(B))),P.T),axis=1), np.concatenate((P, np.zeros((P.shape[0],P.shape[0]))), axis=1)), axis=0)\n",
    "    RHS = np.concatenate(((1-lm)*(B.T @ path), q),axis=0)\n",
    "    cz = np.linalg.pinv(LHS) @ RHS\n",
    "    c = cz[:cn]\n",
    "    \n",
    "    return (t,c.T,k), z\n",
    "\n",
    "def FitSplineWithAngleConstraint(path,k,lm,lm2,angle_index, theta, w=None, clamp=True):\n",
    "    cn = len(path)\n",
    "    if w is None:\n",
    "        w=[1]*cn\n",
    "        w = np.exp(w)\n",
    "        w/=w.sum()\n",
    "    \n",
    "    w = np.tile(w,2)\n",
    "    w = np.expand_dims(w,1)\n",
    "        \n",
    "    z = getSpeedVector(path)\n",
    "    t = gdk(getSpeedVector(path, double=True),cn-k-1,k)\n",
    "    t = gdk(z,cn-k-1,k)\n",
    "    bs = bspline.Bspline(t, k)\n",
    "    B = np.array([bs._Bspline__basis(zi,k) for zi in z])\n",
    "    B[-1][-1] = 1\n",
    "    K=constructSecondDerMatrix(z)\n",
    "    m = len(path)\n",
    "    \n",
    "    Bp = np.concatenate((np.concatenate((B,np.zeros((m,cn))), axis=1), np.concatenate((np.zeros((m,cn)),B), axis=1)), axis=0)\n",
    "    Bp = np.concatenate((Bp, np.zeros((2*cn,1))),axis=1)\n",
    "\n",
    "    Kp = np.concatenate((np.concatenate((K,np.zeros((m,m))), axis=1), np.concatenate((np.zeros((m,m)),K), axis=1)), axis=0)\n",
    "    \n",
    "    eqn = 4\n",
    "    P = np.zeros((eqn, 2*cn+1))\n",
    "    q = np.zeros((eqn,1))\n",
    "\n",
    "    if clamp:\n",
    "        P[0][0] = P[1][cn-1] = P[2][cn] = P[3][2*cn-1] = 1\n",
    "        q[0] = path[0][0]\n",
    "        q[1] = path[-1][0]\n",
    "        q[2] = path[0][1]\n",
    "        q[3] = path[-1][1]\n",
    "    \n",
    "    u = z[angle_index]\n",
    "    bs_d = bspline.Bspline(t[1:-1], k-1)\n",
    "    b_d = bs_d._Bspline__basis(u,k-1)\n",
    "    d = np.concatenate(([-b_d[0]*k/(t[k+1]-t[1])],[b_d[i-1]*k/(t[i+k]-t[i])-b_d[i]*k/(t[i+k+1]-t[i+1]) for i in range(1,cn-1)], [b_d[cn-2]*k/(t[k+cn-1]-t[cn-1])]),axis=0)\n",
    "    \n",
    "    D = np.vstack((np.concatenate((d,np.zeros(d.shape)),axis=0),np.concatenate((np.zeros(d.shape),d),axis=0)))\n",
    "    D = np.concatenate((D,np.array([[-np.cos(theta)], [-np.sin(theta)]])), axis=1)\n",
    "    \n",
    "    LHS = np.concatenate((np.concatenate(((1-lm2)*((1-lm)*((w*Bp).T @ (w*Bp))+lm*((Bp).T@Kp@(Bp)))+lm2*(D.T@D),P.T),axis=1), np.concatenate((P, np.zeros((P.shape[0],P.shape[0]))), axis=1)), axis=0)\n",
    "    RHS = np.concatenate(((1-lm2)*(1-lm)*((w*Bp).T @ (w*path.T.reshape(2*len(path),1))), q),axis=0)\n",
    "    cz = np.linalg.pinv(LHS) @ RHS\n",
    "    c = cz[:2*cn+1]\n",
    "    \n",
    "    r = c[-1]\n",
    "    c = c[:-1].reshape(2,cn)\n",
    "    t = (t-z.min())/(z.max()-z.min())\n",
    "\n",
    "    d=np.expand_dims(d,0)\n",
    "    print(d.shape,c.shape)\n",
    "    der=(d@c.T)[0]\n",
    "    th = np.arctan(der[1]/der[0])\n",
    "    return (t,c,k), z\n",
    "    \n",
    "    d=np.expand_dims(d,0)\n",
    "    s_derv = np.array(interpolate.splev([u],(t,c.T,k)))\n",
    "    der = (d@c)[0]\n",
    "    der_norm = np.linalg.norm(der)\n",
    "    if(der_norm > 0):\n",
    "        der /= der_norm\n",
    "    e_derv = np.expand_dims(der,0)\n",
    "    plt.arrow(*[i[0] for i in s_derv], *[i[0] for i in e_derv.T], color='tab:green', shape='full', head_width=0.1, width=0.01)\n",
    "    \n",
    "    x = np.linspace(z.min(), z.max(), splev_res+1)\n",
    "    yimpl = interpolate.splev(x,(t,c.T,k))\n",
    "    plt.scatter(path[:,0], path[:,1],color='black',label='data',s=10)\n",
    "    #plt.scatter(*c.T,s=10, color='orange', label='controls')\n",
    "    plt.plot(*yimpl, label='spline')\n",
    "    plt.grid()\n",
    "    plt.legend()\n",
    "    plt.show()"
   ]
  },
  {
   "cell_type": "code",
   "execution_count": 17,
   "id": "c09f19c5-636e-46a9-9e1e-a55134472e2d",
   "metadata": {},
   "outputs": [],
   "source": [
    "def MergePaths(p1,p2,i1,i2,theta,k=3):\n",
    "    proj1, proj2, idx1, idx2 = getProj(p1,p2)\n",
    "    i12 = idx1.min()\n",
    "    n1 = np.max(i1-i12,0)\n",
    "    i21 = min(idx2.min()+n1, i2)\n",
    "\n",
    "    path = np.concatenate((p1[:i1], p2[i21:]))\n",
    "    w = np.concatenate(([1]*i1, np.linspace(0,1,i2-i21) if i2>i21 else [], [1]*(len(p2)-i2)))\n",
    "    w = np.exp(w)\n",
    "    w /= w.sum()\n",
    "\n",
    "    tck_new,_ = FitSplineWithAngleConstraint(path,k,0.05,0.5,i1+i2-i21,theta,w=w,clamp=True)\n",
    "\n",
    "    return tck_new "
   ]
  },
  {
   "cell_type": "code",
   "execution_count": 600,
   "id": "eb18d236-cab6-4435-a845-d1c4e7c07e45",
   "metadata": {},
   "outputs": [
    {
     "data": {
      "text/plain": [
       "(2, 1)"
      ]
     },
     "execution_count": 600,
     "metadata": {},
     "output_type": "execute_result"
    }
   ],
   "source": [
    "np.array([[2,3]]).T*np.array([[1,2,3],[2,3,4]])"
   ]
  },
  {
   "cell_type": "code",
   "execution_count": 598,
   "id": "49c2c1f3-97b4-4091-9dc4-51fed7f05dd0",
   "metadata": {},
   "outputs": [
    {
     "data": {
      "text/plain": [
       "(48, 1)"
      ]
     },
     "execution_count": 598,
     "metadata": {},
     "output_type": "execute_result"
    }
   ],
   "source": [
    "np.expand_dims(w,1).shape"
   ]
  },
  {
   "cell_type": "code",
   "execution_count": 580,
   "id": "d3383c99-e11d-45a3-8953-82108b93fc34",
   "metadata": {},
   "outputs": [
    {
     "data": {
      "text/plain": [
       "array([0.02216494, 0.02216494, 0.02216494, 0.02216494, 0.02216494,\n",
       "       0.02216494, 0.02216494, 0.02216494, 0.02216494, 0.02216494,\n",
       "       0.02216494, 0.02216494, 0.02216494, 0.02216494, 0.02216494,\n",
       "       0.02216494, 0.02216494, 0.02216494, 0.02216494, 0.02216494,\n",
       "       0.00815402, 0.0094062 , 0.01085066, 0.01251694, 0.0144391 ,\n",
       "       0.01665645, 0.01921429, 0.02216494, 0.02216494, 0.02216494,\n",
       "       0.02216494, 0.02216494, 0.02216494, 0.02216494, 0.02216494,\n",
       "       0.02216494, 0.02216494, 0.02216494, 0.02216494, 0.02216494,\n",
       "       0.02216494, 0.02216494, 0.02216494, 0.02216494, 0.02216494,\n",
       "       0.02216494, 0.02216494, 0.02216494, 0.02216494, 0.02216494,\n",
       "       0.02216494, 0.02216494, 0.02216494, 0.02216494, 0.02216494,\n",
       "       0.02216494, 0.02216494, 0.02216494, 0.02216494, 0.02216494,\n",
       "       0.02216494, 0.02216494, 0.02216494, 0.02216494, 0.02216494,\n",
       "       0.02216494, 0.02216494, 0.02216494, 0.00815402, 0.0094062 ,\n",
       "       0.01085066, 0.01251694, 0.0144391 , 0.01665645, 0.01921429,\n",
       "       0.02216494, 0.02216494, 0.02216494, 0.02216494, 0.02216494,\n",
       "       0.02216494, 0.02216494, 0.02216494, 0.02216494, 0.02216494,\n",
       "       0.02216494, 0.02216494, 0.02216494, 0.02216494, 0.02216494,\n",
       "       0.02216494, 0.02216494, 0.02216494, 0.02216494, 0.02216494,\n",
       "       0.02216494])"
      ]
     },
     "execution_count": 580,
     "metadata": {},
     "output_type": "execute_result"
    }
   ],
   "source": [
    "np.tile(w,2)"
   ]
  },
  {
   "cell_type": "code",
   "execution_count": 299,
   "id": "cc59f385-52d1-4272-818d-15c2becf20c5",
   "metadata": {},
   "outputs": [],
   "source": [
    "x1 = np.arange(0,20,0.5)\n",
    "y1 = 9*(x1**0.4)\n",
    "\n",
    "x2 = np.arange(5,30,0.5)\n",
    "y2 = 9*(x2**0.3)\n",
    "\n",
    "p1 = np.array([x1,y1]).T\n",
    "p2 = np.array([x2,y2]).T\n",
    "#p1 += np.random.normal(0,0.1,p1.shape)\n",
    "#p2 += np.random.normal(0,0.1,p2.shape)"
   ]
  },
  {
   "cell_type": "code",
   "execution_count": 301,
   "id": "69195b14-4121-4e72-be7a-f7f4e44b632d",
   "metadata": {},
   "outputs": [
    {
     "data": {
      "image/png": "[encoded data removed]",
      "text/plain": [
       "<Figure size 640x480 with 1 Axes>"
      ]
     },
     "metadata": {},
     "output_type": "display_data"
    }
   ],
   "source": [
    "plt.scatter(*p1.T, label='p1', s=3)\n",
    "plt.scatter(*p2.T, label='p2', s=3)\n",
    "plt.legend()\n",
    "plt.grid()\n",
    "xl,yl = plt.xlim(), plt.ylim()\n",
    "plt.show()"
   ]
  },
  {
   "cell_type": "code",
   "execution_count": 332,
   "id": "ee4c7cd5-c64b-4b9f-8011-d66b72ff5f6b",
   "metadata": {},
   "outputs": [],
   "source": [
    "p1_spline_tck,z1 = FitSpline(p1,3,0.5)\n",
    "p1_spline = interpolate.splev(np.linspace(0,1,len(p1)),p1_spline_tck)\n",
    "\n",
    "p2_spline_tck,z2 = FitSpline(p2,3,0.5)\n",
    "p2_spline = interpolate.splev(np.linspace(0,1,len(p2)),p2_spline_tck)\n",
    "\n",
    "dx,dy=interpolate.splev([z2[i2]],p2_spline_tck,der=1)\n",
    "theta=np.arctan(dy/dx).item()"
   ]
  },
  {
   "cell_type": "code",
   "execution_count": 352,
   "id": "0554775e-a3ac-4890-a04d-9d8c40e1466f",
   "metadata": {},
   "outputs": [],
   "source": [
    "dx,dy=interpolate.splev([z2[i2]],p2_spline_tck,der=1)\n",
    "theta=np.arctan(dy/dx).item()"
   ]
  },
  {
   "cell_type": "code",
   "execution_count": 340,
   "id": "dc489052-36ea-4990-8cd9-cff0d5919bc7",
   "metadata": {},
   "outputs": [],
   "source": [
    "i1,i2 = 20,20"
   ]
  },
  {
   "cell_type": "code",
   "execution_count": 538,
   "id": "c30c36df-dd72-48a2-b422-e582d062dc71",
   "metadata": {},
   "outputs": [],
   "source": [
    "#p2_i1 = np.array([np.linalg.norm(p-p1[i1]) for p in p2]).argmin()\n",
    "proj1, proj2, idx1, idx2 = getProj(p1,p2)\n",
    "pi1 = np.array([np.linalg.norm(p1[i1]-proj1[i]) for i in range(len(proj1))]).argmin()\n",
    "p2_i1 = idx2.min()+pi1"
   ]
  },
  {
   "cell_type": "code",
   "execution_count": 540,
   "id": "0d9a2a64-16f6-4e04-8d42-ccc581f30d59",
   "metadata": {},
   "outputs": [
    {
     "data": {
      "image/png": "[encoded data removed]",
      "text/plain": [
       "<Figure size 640x480 with 1 Axes>"
      ]
     },
     "metadata": {},
     "output_type": "display_data"
    }
   ],
   "source": [
    "plt.scatter(*p1[:i1].T, label='p1', s=3)\n",
    "plt.scatter(*p2[p2_i1:i2].T, s=3, alpha=np.linspace(0,1,i2-p2_i1), color='tab:orange')\n",
    "plt.scatter(*p2[i2:].T, label='p2', s=3, color='tab:orange')\n",
    "plt.scatter(*p2[i2], color='tab:green', label='blend end (i2)')\n",
    "plt.scatter(*p1[i1], color='tab:red', label='i1')\n",
    "plt.legend()\n",
    "plt.grid()\n",
    "xl,yl = plt.xlim(), plt.ylim()\n",
    "plt.show()"
   ]
  },
  {
   "cell_type": "code",
   "execution_count": 522,
   "id": "9998a61c-76ec-4a70-ba0f-536243372188",
   "metadata": {},
   "outputs": [
    {
     "ename": "NameError",
     "evalue": "name 'idx2' is not defined",
     "output_type": "error",
     "traceback": [
      "\u001b[1;31m---------------------------------------------------------------------------\u001b[0m",
      "\u001b[1;31mNameError\u001b[0m                                 Traceback (most recent call last)",
      "Cell \u001b[1;32mIn[522], line 1\u001b[0m\n\u001b[1;32m----> 1\u001b[0m p2_i1 \u001b[38;5;241m=\u001b[39m idx2\u001b[38;5;241m.\u001b[39mmin() \u001b[38;5;66;03m#np.array([np.linalg.norm(p-p1[i1]) for p in p2]).argmin()\u001b[39;00m\n\u001b[0;32m      2\u001b[0m path \u001b[38;5;241m=\u001b[39m np\u001b[38;5;241m.\u001b[39mconcatenate((p1[:i1], p2[\u001b[38;5;28mmin\u001b[39m(p2_i1, i2):]))\n\u001b[0;32m      3\u001b[0m w \u001b[38;5;241m=\u001b[39m np\u001b[38;5;241m.\u001b[39mconcatenate(([\u001b[38;5;241m1\u001b[39m]\u001b[38;5;241m*\u001b[39mi1, np\u001b[38;5;241m.\u001b[39mlinspace(\u001b[38;5;241m0\u001b[39m,\u001b[38;5;241m1\u001b[39m,i2\u001b[38;5;241m-\u001b[39mp2_i1) \u001b[38;5;28;01mif\u001b[39;00m i2\u001b[38;5;241m>\u001b[39mp2_i1 \u001b[38;5;28;01melse\u001b[39;00m [], [\u001b[38;5;241m1\u001b[39m]\u001b[38;5;241m*\u001b[39mi2))\n",
      "\u001b[1;31mNameError\u001b[0m: name 'idx2' is not defined"
     ]
    }
   ],
   "source": [
    "p2_i1 = idx2.min() #np.array([np.linalg.norm(p-p1[i1]) for p in p2]).argmin()\n",
    "path = np.concatenate((p1[:i1], p2[min(p2_i1, i2):]))\n",
    "w = np.concatenate(([1]*i1, np.linspace(0,1,i2-p2_i1) if i2>p2_i1 else [], [1]*i2))\n",
    "w = np.exp(w)\n",
    "w /= w.sum()"
   ]
  },
  {
   "cell_type": "code",
   "execution_count": 664,
   "id": "82a3141a-d51d-4fdc-a242-584305fffd0c",
   "metadata": {},
   "outputs": [
    {
     "name": "stdout",
     "output_type": "stream",
     "text": [
      "(58,) (2, 58)\n",
      "(1, 58) (2, 58)\n",
      "-29.954580395610833\n"
     ]
    },
    {
     "data": {
      "image/png": "[encoded data removed]",
      "text/plain": [
       "<Figure size 640x480 with 1 Axes>"
      ]
     },
     "metadata": {},
     "output_type": "display_data"
    }
   ],
   "source": [
    "tck_new,_ = FitSplineWithAngleConstraint(path,k,0.5,0.5,i1+p2_i1,-30/180*np.pi,clamp=True)\n",
    "y = interpolate.splev(np.linspace(0,1,101),tck_new)\n",
    "plt.plot(*y)\n",
    "plt.scatter(*path.T, color='black',s=10)\n",
    "plt.grid()\n",
    "plt.show()"
   ]
  },
  {
   "cell_type": "code",
   "execution_count": 606,
   "id": "d8e54e41-7ec9-4b33-968d-18e6a50b13d1",
   "metadata": {},
   "outputs": [
    {
     "data": {
      "text/plain": [
       "(58, 2)"
      ]
     },
     "execution_count": 606,
     "metadata": {},
     "output_type": "execute_result"
    }
   ],
   "source": [
    "path.shape"
   ]
  },
  {
   "cell_type": "code",
   "execution_count": null,
   "id": "b5c10753-c145-4d37-b059-3dfc37aefa06",
   "metadata": {},
   "outputs": [],
   "source": []
  },
  {
   "cell_type": "code",
   "execution_count": 694,
   "id": "a7be0450-de75-4a1f-9948-ac02054579a2",
   "metadata": {},
   "outputs": [],
   "source": [
    "p1_spline_tck,z1 = FitSpline(p1,3,0.5)\n",
    "p1_spline = interpolate.splev(np.linspace(0,1,len(p1)),p1_spline_tck)\n",
    "\n",
    "p2_spline_tck,z2 = FitSpline(p2,3,0.5)\n",
    "p2_spline = interpolate.splev(np.linspace(0,1,len(p2)),p2_spline_tck)\n",
    "\n",
    "dx,dy=interpolate.splev([z2[i2]],p2_spline_tck,der=1)\n",
    "theta=np.arctan(dy/dx).item()"
   ]
  },
  {
   "cell_type": "code",
   "execution_count": null,
   "id": "a68ae68a-d863-480d-85ff-8d03a2ae8f73",
   "metadata": {},
   "outputs": [],
   "source": []
  },
  {
   "cell_type": "code",
   "execution_count": null,
   "id": "596498eb-2327-4be8-a1f3-724f898ab4f3",
   "metadata": {},
   "outputs": [],
   "source": []
  },
  {
   "cell_type": "code",
   "execution_count": 25,
   "id": "4dd0e8d5-9e5f-4153-80de-354f848a2544",
   "metadata": {},
   "outputs": [
    {
     "name": "stdout",
     "output_type": "stream",
     "text": [
      "(1, 58) (2, 58)\n"
     ]
    },
    {
     "data": {
      "image/png": "[encoded data removed]",
      "text/plain": [
       "<Figure size 640x480 with 1 Axes>"
      ]
     },
     "metadata": {},
     "output_type": "display_data"
    }
   ],
   "source": [
    "x1 = np.arange(0,20,0.5)\n",
    "y1 = 9*(x1**0.4)\n",
    "\n",
    "x2 = np.arange(5,30,0.5)\n",
    "y2 = 9*(x2**0.3)\n",
    "\n",
    "p1 = np.array([x1,y1]).T\n",
    "p2 = np.array([x2,y2]).T\n",
    "#p1 += np.random.normal(0,0.1,p1.shape)\n",
    "#p2 += np.random.normal(0,0.1,p2.shape)\n",
    "\n",
    "i1,i2 = 20,20\n",
    "p1_spline_tck,z1 = FitSpline(p1,3,0.5)\n",
    "p1_spline = interpolate.splev(np.linspace(0,1,len(p1)),p1_spline_tck)\n",
    "p2_spline_tck,z2 = FitSpline(p2,3,0.5)\n",
    "p2_spline = interpolate.splev(np.linspace(0,1,len(p2)),p2_spline_tck)\n",
    "\n",
    "dx,dy=interpolate.splev([z2[i2]],p2_spline_tck,der=1)\n",
    "theta=np.arctan(dy/dx).item()\n",
    "\n",
    "tck_new = MergePaths(p1,p2,i1,i2,theta)\n",
    "y = interpolate.splev(np.linspace(0,1,101),tck_new)\n",
    "plt.plot(*y)\n",
    "plt.scatter(*p1.T, color='tab:blue',s=10)\n",
    "plt.scatter(*p2.T, color='tab:orange',s=10)\n",
    "plt.scatter(*p2[i2], color='tab:red')\n",
    "plt.grid()\n",
    "plt.show()"
   ]
  },
  {
   "cell_type": "code",
   "execution_count": null,
   "id": "5b6c0093-0720-4d61-baac-223c1c75a139",
   "metadata": {},
   "outputs": [],
   "source": []
  },
  {
   "cell_type": "code",
   "execution_count": null,
   "id": "039a4264-2360-47dc-bb44-2b82aca8d090",
   "metadata": {},
   "outputs": [],
   "source": []
  },
  {
   "cell_type": "code",
   "execution_count": null,
   "id": "a33ab6d4-155e-4526-a153-e93b78a43299",
   "metadata": {},
   "outputs": [],
   "source": []
  },
  {
   "cell_type": "code",
   "execution_count": 702,
   "id": "416be09a-7589-4fa6-bb61-c6bfd17dd4e1",
   "metadata": {},
   "outputs": [],
   "source": [
    "i1,i2 = 20,20\n",
    "proj1, proj2, idx1, idx2 = getProj(p1,p2)\n",
    "i12 = idx1.min()\n",
    "n1 = np.max(i1-i12,0)\n",
    "i21 = min(idx2.min()+n1, i2)"
   ]
  },
  {
   "cell_type": "code",
   "execution_count": 704,
   "id": "9893a624-0721-4e14-aaf7-b437444e6479",
   "metadata": {},
   "outputs": [],
   "source": [
    "#p2_i1 = np.array([np.linalg.norm(p-p1[i1]) for p in p2]).argmin()\n",
    "path = np.concatenate((p1[:i1], p2[i21:]))\n",
    "w = np.concatenate(([1]*i1, np.linspace(0,1,i2-i21) if i2>p2_i1 else [], [1]*(len(p2)-i2)))\n",
    "w = np.exp(w)\n",
    "w /= w.sum()"
   ]
  },
  {
   "cell_type": "code",
   "execution_count": 706,
   "id": "14fd80aa-c0f5-462e-8ecc-d7dc9cd7b722",
   "metadata": {},
   "outputs": [
    {
     "name": "stdout",
     "output_type": "stream",
     "text": [
      "(58,) (2, 58)\n",
      "(1, 58) (2, 58)\n",
      "21.53283861069659\n"
     ]
    },
    {
     "data": {
      "image/png": "[encoded data removed]",
      "text/plain": [
       "<Figure size 640x480 with 1 Axes>"
      ]
     },
     "metadata": {},
     "output_type": "display_data"
    }
   ],
   "source": [
    "tck_new,_ = FitSplineWithAngleConstraint(path,k,0.05,0.5,i1+i2-p2_i1,theta,w=w,clamp=True)\n",
    "y = interpolate.splev(np.linspace(0,1,101),tck_new)\n",
    "plt.plot(*y)\n",
    "plt.scatter(*path.T, color='black',s=10)\n",
    "plt.scatter(*p2[i2], color='tab:red')\n",
    "plt.grid()\n",
    "plt.show()"
   ]
  },
  {
   "cell_type": "code",
   "execution_count": 672,
   "id": "176f2b01-8062-4c14-b98f-1523824ed3f2",
   "metadata": {},
   "outputs": [
    {
     "data": {
      "text/plain": [
       "((58,), (58, 2))"
      ]
     },
     "execution_count": 672,
     "metadata": {},
     "output_type": "execute_result"
    }
   ],
   "source": []
  },
  {
   "cell_type": "code",
   "execution_count": 676,
   "id": "ef0d41fc-d923-41ba-b456-c3f835948e11",
   "metadata": {},
   "outputs": [
    {
     "data": {
      "text/plain": [
       "array([0.01814345, 0.01814345, 0.01814345, 0.01814345, 0.01814345,\n",
       "       0.01814345, 0.01814345, 0.01814345, 0.01814345, 0.01814345,\n",
       "       0.01814345, 0.01814345, 0.01814345, 0.01814345, 0.01814345,\n",
       "       0.01814345, 0.01814345, 0.01814345, 0.01814345, 0.01814345,\n",
       "       0.0066746 , 0.00769959, 0.00888198, 0.01024594, 0.01181935,\n",
       "       0.01363439, 0.01572816, 0.01814345, 0.01814345, 0.01814345,\n",
       "       0.01814345, 0.01814345, 0.01814345, 0.01814345, 0.01814345,\n",
       "       0.01814345, 0.01814345, 0.01814345, 0.01814345, 0.01814345,\n",
       "       0.01814345, 0.01814345, 0.01814345, 0.01814345, 0.01814345,\n",
       "       0.01814345, 0.01814345, 0.01814345, 0.01814345, 0.01814345,\n",
       "       0.01814345, 0.01814345, 0.01814345, 0.01814345, 0.01814345,\n",
       "       0.01814345, 0.01814345, 0.01814345])"
      ]
     },
     "execution_count": 676,
     "metadata": {},
     "output_type": "execute_result"
    }
   ],
   "source": []
  },
  {
   "cell_type": "code",
   "execution_count": null,
   "id": "6ce2fedb-c521-4802-bde3-b40cfb0616c2",
   "metadata": {},
   "outputs": [],
   "source": []
  }
 ],
 "metadata": {
  "kernelspec": {
   "display_name": "Python 3 (ipykernel)",
   "language": "python",
   "name": "python3"
  },
  "language_info": {
   "codemirror_mode": {
    "name": "ipython",
    "version": 3
   },
   "file_extension": ".py",
   "mimetype": "text/x-python",
   "name": "python",
   "nbconvert_exporter": "python",
   "pygments_lexer": "ipython3",
   "version": "3.11.7"
  }
 },
 "nbformat": 4,
 "nbformat_minor": 5
}
